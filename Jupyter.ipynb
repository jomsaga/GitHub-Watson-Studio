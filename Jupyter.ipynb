{
    "cells": [
        {
            "cell_type": "markdown",
            "metadata": {},
            "source": "# This Notebook analyzes CO2 emmissions from cars"
        },
        {
            "cell_type": "code",
            "execution_count": 10,
            "metadata": {},
            "outputs": [
                {
                    "data": {
                        "text/html": "<div>\n<style scoped>\n    .dataframe tbody tr th:only-of-type {\n        vertical-align: middle;\n    }\n\n    .dataframe tbody tr th {\n        vertical-align: top;\n    }\n\n    .dataframe thead th {\n        text-align: right;\n    }\n</style>\n<table border=\"1\" class=\"dataframe\">\n  <thead>\n    <tr style=\"text-align: right;\">\n      <th></th>\n      <th>MODELYEAR</th>\n      <th>MAKE</th>\n      <th>MODEL</th>\n      <th>VEHICLECLASS</th>\n      <th>ENGINESIZE</th>\n      <th>CYLINDERS</th>\n      <th>TRANSMISSION</th>\n      <th>FUELTYPE</th>\n      <th>FUELCONSUMPTION_CITY</th>\n      <th>FUELCONSUMPTION_HWY</th>\n      <th>FUELCONSUMPTION_COMB</th>\n      <th>FUELCONSUMPTION_COMB_MPG</th>\n      <th>CO2EMISSIONS</th>\n    </tr>\n  </thead>\n  <tbody>\n    <tr>\n      <th>0</th>\n      <td>2014</td>\n      <td>ACURA</td>\n      <td>ILX</td>\n      <td>COMPACT</td>\n      <td>2.0</td>\n      <td>4</td>\n      <td>AS5</td>\n      <td>Z</td>\n      <td>9.9</td>\n      <td>6.7</td>\n      <td>8.5</td>\n      <td>33</td>\n      <td>196</td>\n    </tr>\n    <tr>\n      <th>1</th>\n      <td>2014</td>\n      <td>ACURA</td>\n      <td>ILX</td>\n      <td>COMPACT</td>\n      <td>2.4</td>\n      <td>4</td>\n      <td>M6</td>\n      <td>Z</td>\n      <td>11.2</td>\n      <td>7.7</td>\n      <td>9.6</td>\n      <td>29</td>\n      <td>221</td>\n    </tr>\n    <tr>\n      <th>2</th>\n      <td>2014</td>\n      <td>ACURA</td>\n      <td>ILX HYBRID</td>\n      <td>COMPACT</td>\n      <td>1.5</td>\n      <td>4</td>\n      <td>AV7</td>\n      <td>Z</td>\n      <td>6.0</td>\n      <td>5.8</td>\n      <td>5.9</td>\n      <td>48</td>\n      <td>136</td>\n    </tr>\n    <tr>\n      <th>3</th>\n      <td>2014</td>\n      <td>ACURA</td>\n      <td>MDX 4WD</td>\n      <td>SUV - SMALL</td>\n      <td>3.5</td>\n      <td>6</td>\n      <td>AS6</td>\n      <td>Z</td>\n      <td>12.7</td>\n      <td>9.1</td>\n      <td>11.1</td>\n      <td>25</td>\n      <td>255</td>\n    </tr>\n    <tr>\n      <th>4</th>\n      <td>2014</td>\n      <td>ACURA</td>\n      <td>RDX AWD</td>\n      <td>SUV - SMALL</td>\n      <td>3.5</td>\n      <td>6</td>\n      <td>AS6</td>\n      <td>Z</td>\n      <td>12.1</td>\n      <td>8.7</td>\n      <td>10.6</td>\n      <td>27</td>\n      <td>244</td>\n    </tr>\n    <tr>\n      <th>5</th>\n      <td>2014</td>\n      <td>ACURA</td>\n      <td>RLX</td>\n      <td>MID-SIZE</td>\n      <td>3.5</td>\n      <td>6</td>\n      <td>AS6</td>\n      <td>Z</td>\n      <td>11.9</td>\n      <td>7.7</td>\n      <td>10.0</td>\n      <td>28</td>\n      <td>230</td>\n    </tr>\n    <tr>\n      <th>6</th>\n      <td>2014</td>\n      <td>ACURA</td>\n      <td>TL</td>\n      <td>MID-SIZE</td>\n      <td>3.5</td>\n      <td>6</td>\n      <td>AS6</td>\n      <td>Z</td>\n      <td>11.8</td>\n      <td>8.1</td>\n      <td>10.1</td>\n      <td>28</td>\n      <td>232</td>\n    </tr>\n    <tr>\n      <th>7</th>\n      <td>2014</td>\n      <td>ACURA</td>\n      <td>TL AWD</td>\n      <td>MID-SIZE</td>\n      <td>3.7</td>\n      <td>6</td>\n      <td>AS6</td>\n      <td>Z</td>\n      <td>12.8</td>\n      <td>9.0</td>\n      <td>11.1</td>\n      <td>25</td>\n      <td>255</td>\n    </tr>\n    <tr>\n      <th>8</th>\n      <td>2014</td>\n      <td>ACURA</td>\n      <td>TL AWD</td>\n      <td>MID-SIZE</td>\n      <td>3.7</td>\n      <td>6</td>\n      <td>M6</td>\n      <td>Z</td>\n      <td>13.4</td>\n      <td>9.5</td>\n      <td>11.6</td>\n      <td>24</td>\n      <td>267</td>\n    </tr>\n    <tr>\n      <th>9</th>\n      <td>2014</td>\n      <td>ACURA</td>\n      <td>TSX</td>\n      <td>COMPACT</td>\n      <td>2.4</td>\n      <td>4</td>\n      <td>AS5</td>\n      <td>Z</td>\n      <td>10.6</td>\n      <td>7.5</td>\n      <td>9.2</td>\n      <td>31</td>\n      <td>212</td>\n    </tr>\n    <tr>\n      <th>10</th>\n      <td>2014</td>\n      <td>ACURA</td>\n      <td>TSX</td>\n      <td>COMPACT</td>\n      <td>2.4</td>\n      <td>4</td>\n      <td>M6</td>\n      <td>Z</td>\n      <td>11.2</td>\n      <td>8.1</td>\n      <td>9.8</td>\n      <td>29</td>\n      <td>225</td>\n    </tr>\n    <tr>\n      <th>11</th>\n      <td>2014</td>\n      <td>ACURA</td>\n      <td>TSX</td>\n      <td>COMPACT</td>\n      <td>3.5</td>\n      <td>6</td>\n      <td>AS5</td>\n      <td>Z</td>\n      <td>12.1</td>\n      <td>8.3</td>\n      <td>10.4</td>\n      <td>27</td>\n      <td>239</td>\n    </tr>\n    <tr>\n      <th>12</th>\n      <td>2014</td>\n      <td>ASTON MARTIN</td>\n      <td>DB9</td>\n      <td>MINICOMPACT</td>\n      <td>5.9</td>\n      <td>12</td>\n      <td>A6</td>\n      <td>Z</td>\n      <td>18.0</td>\n      <td>12.6</td>\n      <td>15.6</td>\n      <td>18</td>\n      <td>359</td>\n    </tr>\n    <tr>\n      <th>13</th>\n      <td>2014</td>\n      <td>ASTON MARTIN</td>\n      <td>RAPIDE</td>\n      <td>SUBCOMPACT</td>\n      <td>5.9</td>\n      <td>12</td>\n      <td>A6</td>\n      <td>Z</td>\n      <td>18.0</td>\n      <td>12.6</td>\n      <td>15.6</td>\n      <td>18</td>\n      <td>359</td>\n    </tr>\n    <tr>\n      <th>14</th>\n      <td>2014</td>\n      <td>ASTON MARTIN</td>\n      <td>V8 VANTAGE</td>\n      <td>TWO-SEATER</td>\n      <td>4.7</td>\n      <td>8</td>\n      <td>AM7</td>\n      <td>Z</td>\n      <td>17.4</td>\n      <td>11.3</td>\n      <td>14.7</td>\n      <td>19</td>\n      <td>338</td>\n    </tr>\n  </tbody>\n</table>\n</div>",
                        "text/plain": "    MODELYEAR          MAKE       MODEL VEHICLECLASS  ENGINESIZE  CYLINDERS  \\\n0        2014         ACURA         ILX      COMPACT         2.0          4   \n1        2014         ACURA         ILX      COMPACT         2.4          4   \n2        2014         ACURA  ILX HYBRID      COMPACT         1.5          4   \n3        2014         ACURA     MDX 4WD  SUV - SMALL         3.5          6   \n4        2014         ACURA     RDX AWD  SUV - SMALL         3.5          6   \n5        2014         ACURA         RLX     MID-SIZE         3.5          6   \n6        2014         ACURA          TL     MID-SIZE         3.5          6   \n7        2014         ACURA      TL AWD     MID-SIZE         3.7          6   \n8        2014         ACURA      TL AWD     MID-SIZE         3.7          6   \n9        2014         ACURA         TSX      COMPACT         2.4          4   \n10       2014         ACURA         TSX      COMPACT         2.4          4   \n11       2014         ACURA         TSX      COMPACT         3.5          6   \n12       2014  ASTON MARTIN         DB9  MINICOMPACT         5.9         12   \n13       2014  ASTON MARTIN      RAPIDE   SUBCOMPACT         5.9         12   \n14       2014  ASTON MARTIN  V8 VANTAGE   TWO-SEATER         4.7          8   \n\n   TRANSMISSION FUELTYPE  FUELCONSUMPTION_CITY  FUELCONSUMPTION_HWY  \\\n0           AS5        Z                   9.9                  6.7   \n1            M6        Z                  11.2                  7.7   \n2           AV7        Z                   6.0                  5.8   \n3           AS6        Z                  12.7                  9.1   \n4           AS6        Z                  12.1                  8.7   \n5           AS6        Z                  11.9                  7.7   \n6           AS6        Z                  11.8                  8.1   \n7           AS6        Z                  12.8                  9.0   \n8            M6        Z                  13.4                  9.5   \n9           AS5        Z                  10.6                  7.5   \n10           M6        Z                  11.2                  8.1   \n11          AS5        Z                  12.1                  8.3   \n12           A6        Z                  18.0                 12.6   \n13           A6        Z                  18.0                 12.6   \n14          AM7        Z                  17.4                 11.3   \n\n    FUELCONSUMPTION_COMB  FUELCONSUMPTION_COMB_MPG  CO2EMISSIONS  \n0                    8.5                        33           196  \n1                    9.6                        29           221  \n2                    5.9                        48           136  \n3                   11.1                        25           255  \n4                   10.6                        27           244  \n5                   10.0                        28           230  \n6                   10.1                        28           232  \n7                   11.1                        25           255  \n8                   11.6                        24           267  \n9                    9.2                        31           212  \n10                   9.8                        29           225  \n11                  10.4                        27           239  \n12                  15.6                        18           359  \n13                  15.6                        18           359  \n14                  14.7                        19           338  "
                    },
                    "execution_count": 10,
                    "metadata": {},
                    "output_type": "execute_result"
                }
            ],
            "source": "# The code was removed by Watson Studio for sharing."
        },
        {
            "cell_type": "code",
            "execution_count": null,
            "metadata": {},
            "outputs": [],
            "source": ""
        }
    ],
    "metadata": {
        "kernelspec": {
            "display_name": "Python 3.6 with Spark",
            "language": "python3",
            "name": "python36"
        },
        "language_info": {
            "codemirror_mode": {
                "name": "ipython",
                "version": 3
            },
            "file_extension": ".py",
            "mimetype": "text/x-python",
            "name": "python",
            "nbconvert_exporter": "python",
            "pygments_lexer": "ipython3",
            "version": "3.6.8"
        }
    },
    "nbformat": 4,
    "nbformat_minor": 1
}